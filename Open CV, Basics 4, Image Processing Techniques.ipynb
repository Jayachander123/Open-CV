{
 "cells": [
  {
   "cell_type": "markdown",
   "metadata": {},
   "source": [
    "### Courtesy of Mastering OpenCV 4 with Pythonby Alberto Fernandez Villan"
   ]
  },
  {
   "cell_type": "code",
   "execution_count": 1,
   "metadata": {},
   "outputs": [],
   "source": [
    "import cv2\n",
    "import numpy as np\n",
    "import matplotlib.pyplot as plt\n",
    "import os"
   ]
  },
  {
   "cell_type": "code",
   "execution_count": 16,
   "metadata": {},
   "outputs": [
    {
     "name": "stdout",
     "output_type": "stream",
     "text": [
      "Image shape: (499, 415, 3)\n",
      "Image dtype: uint8\n"
     ]
    }
   ],
   "source": [
    "image = cv2.imread(\"C:/Users/Business Intelli/Desktop/cats vs dogs/train/dogs/dog.21.jpg\", 1)\n",
    "print('Image shape:', image.shape)\n",
    "print('Image dtype:', image.dtype)\n",
    "cv2.imshow('image', image)\n",
    "cv2.waitKey()\n",
    "cv2.destroyAllWindows()"
   ]
  },
  {
   "cell_type": "code",
   "execution_count": 4,
   "metadata": {},
   "outputs": [],
   "source": [
    "width = 150\n",
    "height = 150\n",
    "image_resized = cv2.resize(image, (width*2, height*2), interpolation = cv2.INTER_LINEAR  )"
   ]
  },
  {
   "cell_type": "code",
   "execution_count": 5,
   "metadata": {},
   "outputs": [
    {
     "name": "stdout",
     "output_type": "stream",
     "text": [
      "Image shape: (300, 300, 3)\n",
      "Image dtype: uint8\n"
     ]
    }
   ],
   "source": [
    "cv2.imshow('image', image_resized)\n",
    "cv2.waitKey()\n",
    "cv2.destroyAllWindows()\n",
    "print('Image shape:', image_resized.shape)\n",
    "print('Image dtype:', image_resized.dtype)"
   ]
  },
  {
   "cell_type": "code",
   "execution_count": 13,
   "metadata": {},
   "outputs": [],
   "source": [
    "# Gaussian Filtering\n",
    "\n",
    "smooth_image_gb = cv2.GaussianBlur(image, (9, 9), 0)\n",
    "\n",
    "cv2.imshow('image', smooth_image_gb)\n",
    "cv2.waitKey()\n",
    "cv2.destroyAllWindows()"
   ]
  },
  {
   "cell_type": "code",
   "execution_count": 14,
   "metadata": {},
   "outputs": [],
   "source": [
    "# Median Filtering\n",
    "smooth_image_mb = cv2.medianBlur(image, 9)\n",
    "cv2.imshow('image', smooth_image_mb)\n",
    "cv2.waitKey()\n",
    "cv2.destroyAllWindows()"
   ]
  },
  {
   "cell_type": "code",
   "execution_count": 25,
   "metadata": {},
   "outputs": [],
   "source": [
    "# bilateral filtering\n",
    "smooth_image_bf = cv2.bilateralFilter(image, 5, 10, 10)\n",
    "cv2.imshow('image', smooth_image_bf)\n",
    "cv2.waitKey()\n",
    "cv2.destroyAllWindows()\n"
   ]
  },
  {
   "cell_type": "code",
   "execution_count": 51,
   "metadata": {},
   "outputs": [],
   "source": [
    "# Filter2D Function\n",
    "\n",
    "filter_2d = cv2.filter2D(image, 0, 5, 10)\n",
    "cv2.imshow('image', filter_2d)\n",
    "cv2.waitKey()\n",
    "cv2.destroyAllWindows()\n"
   ]
  },
  {
   "cell_type": "markdown",
   "metadata": {},
   "source": [
    "### Histogram"
   ]
  },
  {
   "cell_type": "code",
   "execution_count": 60,
   "metadata": {},
   "outputs": [],
   "source": [
    "gray_image = cv2.cvtColor(image, cv2.COLOR_BGR2GRAY)\n",
    "hist = cv2.calcHist([gray_image], [0], None, [256], [0, 256])"
   ]
  },
  {
   "cell_type": "code",
   "execution_count": 61,
   "metadata": {},
   "outputs": [],
   "source": [
    "mask = np.zeros(gray_image.shape[:2], np.uint8)\n",
    "mask[30:190, 30:190] = 255"
   ]
  },
  {
   "cell_type": "code",
   "execution_count": 62,
   "metadata": {},
   "outputs": [],
   "source": [
    "hist_mask = cv2.calcHist([gray_image], [0], mask, [256], [0, 256])"
   ]
  },
  {
   "cell_type": "code",
   "execution_count": 52,
   "metadata": {},
   "outputs": [],
   "source": [
    "def hist_color_img(img):\n",
    "    \"\"\"Calculates the histogram from a three-channel image\"\"\"\n",
    "\n",
    "    histr = []\n",
    "    histr.append(cv2.calcHist([img], [0], None, [256], [0, 256]))\n",
    "    histr.append(cv2.calcHist([img], [1], None, [256], [0, 256]))\n",
    "    histr.append(cv2.calcHist([img], [2], None, [256], [0, 256]))\n",
    "    return histr"
   ]
  },
  {
   "cell_type": "code",
   "execution_count": 63,
   "metadata": {},
   "outputs": [],
   "source": [
    "hist_color = hist_color_img(image)"
   ]
  }
 ],
 "metadata": {
  "kernelspec": {
   "display_name": "Python 3",
   "language": "python",
   "name": "python3"
  },
  "language_info": {
   "codemirror_mode": {
    "name": "ipython",
    "version": 3
   },
   "file_extension": ".py",
   "mimetype": "text/x-python",
   "name": "python",
   "nbconvert_exporter": "python",
   "pygments_lexer": "ipython3",
   "version": "3.7.3"
  }
 },
 "nbformat": 4,
 "nbformat_minor": 2
}
