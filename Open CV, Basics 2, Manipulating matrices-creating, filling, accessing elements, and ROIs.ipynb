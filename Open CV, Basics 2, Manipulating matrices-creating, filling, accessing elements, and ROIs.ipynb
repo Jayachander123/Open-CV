{
 "cells": [
  {
   "cell_type": "code",
   "execution_count": 1,
   "metadata": {},
   "outputs": [],
   "source": [
    "import cv2\n",
    "import numpy as np"
   ]
  },
  {
   "cell_type": "code",
   "execution_count": 23,
   "metadata": {},
   "outputs": [],
   "source": [
    "# Create a matrix of a certain shape and fill it with 255 as a value\n",
    "image = np.full((480, 640, 3), 255, np.uint8)\n",
    "cv2.imshow('white', image)\n",
    "cv2.waitKey()\n",
    "cv2.destroyAllWindows()"
   ]
  },
  {
   "cell_type": "code",
   "execution_count": 45,
   "metadata": {},
   "outputs": [],
   "source": [
    "image = np.full((480, 640, 3), (1, 1, 255), np.uint8)\n",
    "cv2.imshow('red',image)\n",
    "cv2.waitKey()\n",
    "cv2.destroyAllWindows()"
   ]
  },
  {
   "cell_type": "code",
   "execution_count": 47,
   "metadata": {},
   "outputs": [],
   "source": [
    "#Fill our matrix with zeros to make it black\n",
    "image.fill(0)\n",
    "cv2.imshow('black', image)\n",
    "cv2.waitKey()\n",
    "cv2.destroyAllWindows()"
   ]
  },
  {
   "cell_type": "code",
   "execution_count": 48,
   "metadata": {},
   "outputs": [],
   "source": [
    "#Next, set some individual pixels' values to white:\n",
    "image[240, 160] = image[240, 320] = image[240, 480] = (255, 255, 255)\n",
    "cv2.imshow('black with white pixels', image)\n",
    "cv2.waitKey()\n",
    "cv2.destroyAllWindows()"
   ]
  },
  {
   "cell_type": "code",
   "execution_count": 50,
   "metadata": {},
   "outputs": [],
   "source": [
    "# set the first channel of all pixels to 255 to make black ones blue:\n",
    "image[: , :, 0] = 255\n",
    "cv2.imshow('black with white pixels', image)\n",
    "cv2.waitKey()\n",
    "cv2.destroyAllWindows()"
   ]
  },
  {
   "cell_type": "code",
   "execution_count": 51,
   "metadata": {},
   "outputs": [],
   "source": [
    "#set pixels on a vertical line in the middle of the image to white:\n",
    "image[:, 322, :] = 255\n",
    "cv2.imshow(\"blue with white line\", image)\n",
    "cv2.waitKey()\n",
    "cv2.destroyAllWindows()"
   ]
  },
  {
   "cell_type": "code",
   "execution_count": 52,
   "metadata": {},
   "outputs": [],
   "source": [
    "# set the second channel of all pixels inside a certain region to 255:\n",
    "image[100:600, 100:200, 2] = 255\n",
    "cv2.imshow('image', image)\n",
    "cv2.waitKey()\n",
    "cv2.destroyAllWindows()"
   ]
  },
  {
   "cell_type": "code",
   "execution_count": 56,
   "metadata": {},
   "outputs": [
    {
     "name": "stdout",
     "output_type": "stream",
     "text": [
      "shape: (480, 640, 3)\n",
      "datatype: uint8\n"
     ]
    }
   ],
   "source": [
    "\n",
    "image1 = cv2.imread(\"C:/Users/Business Intelli/Desktop/cats vs dogs/train/dogs/dog.109.jpg\", 1)\n",
    "print('shape:', image.shape)\n",
    "print('datatype:', image.dtype)\n",
    "cv2.imshow('image', image1)\n",
    "cv2.waitKey()\n",
    "cv2.destroyAllWindows()\n"
   ]
  },
  {
   "cell_type": "code",
   "execution_count": 67,
   "metadata": {},
   "outputs": [
    {
     "name": "stdout",
     "output_type": "stream",
     "text": [
      "shape: (268, 439, 3)\n",
      "datatype: float32\n"
     ]
    }
   ],
   "source": [
    "image1 = image1.astype(np.float32)\n",
    "print('shape:', image1.shape)\n",
    "print('datatype:', image1.dtype)"
   ]
  },
  {
   "cell_type": "code",
   "execution_count": 70,
   "metadata": {},
   "outputs": [
    {
     "name": "stdout",
     "output_type": "stream",
     "text": [
      "shape: (268, 439, 3)\n",
      "datatype: uint8\n"
     ]
    }
   ],
   "source": [
    "image1 = image1.astype(np.uint8)\n",
    "print('shape:', image1.shape)\n",
    "print('datatype:', image1.dtype)"
   ]
  }
 ],
 "metadata": {
  "kernelspec": {
   "display_name": "Python 3",
   "language": "python",
   "name": "python3"
  },
  "language_info": {
   "codemirror_mode": {
    "name": "ipython",
    "version": 3
   },
   "file_extension": ".py",
   "mimetype": "text/x-python",
   "name": "python",
   "nbconvert_exporter": "python",
   "pygments_lexer": "ipython3",
   "version": "3.7.3"
  }
 },
 "nbformat": 4,
 "nbformat_minor": 2
}
