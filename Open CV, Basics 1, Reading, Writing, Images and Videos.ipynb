{
 "cells": [
  {
   "cell_type": "code",
   "execution_count": 5,
   "metadata": {},
   "outputs": [],
   "source": [
    "import cv2, random"
   ]
  },
  {
   "cell_type": "code",
   "execution_count": 2,
   "metadata": {},
   "outputs": [
    {
     "data": {
      "text/plain": [
       "'4.1.0'"
      ]
     },
     "execution_count": 2,
     "metadata": {},
     "output_type": "execute_result"
    }
   ],
   "source": [
    "cv2.__version__"
   ]
  },
  {
   "cell_type": "code",
   "execution_count": 6,
   "metadata": {},
   "outputs": [
    {
     "name": "stdout",
     "output_type": "stream",
     "text": [
      "[[[ 72  97 123]\n",
      "  [ 69  94 120]\n",
      "  [ 66  91 117]\n",
      "  ...\n",
      "  [ 38  13   9]\n",
      "  [ 35  10   6]\n",
      "  [ 32  10   5]]\n",
      "\n",
      " [[ 57  81 109]\n",
      "  [ 56  81 107]\n",
      "  [ 57  81 109]\n",
      "  ...\n",
      "  [ 44  19  15]\n",
      "  [ 38  16  11]\n",
      "  [ 35  13   8]]\n",
      "\n",
      " [[ 52  76 106]\n",
      "  [ 53  77 105]\n",
      "  [ 56  80 110]\n",
      "  ...\n",
      "  [ 39  17  12]\n",
      "  [ 33  13   8]\n",
      "  [ 31  11   6]]\n",
      "\n",
      " ...\n",
      "\n",
      " [[ 71  87  94]\n",
      "  [ 69  85  92]\n",
      "  [ 69  85  92]\n",
      "  ...\n",
      "  [ 45  57  61]\n",
      "  [ 45  57  61]\n",
      "  [ 47  59  63]]\n",
      "\n",
      " [[ 72  87  96]\n",
      "  [ 72  87  96]\n",
      "  [ 71  88  97]\n",
      "  ...\n",
      "  [ 45  56  60]\n",
      "  [ 44  55  59]\n",
      "  [ 47  58  62]]\n",
      "\n",
      " [[ 75  90  99]\n",
      "  [ 76  91 100]\n",
      "  [ 77  94 103]\n",
      "  ...\n",
      "  [ 49  60  64]\n",
      "  [ 48  59  63]\n",
      "  [ 50  61  65]]]\n"
     ]
    }
   ],
   "source": [
    "image = cv2.imread(\"C:/Users/Business Intelli/Desktop/cats vs dogs/train/dogs/dog.109.jpg\", -1)\n",
    "\n",
    "print(image)"
   ]
  },
  {
   "cell_type": "code",
   "execution_count": 4,
   "metadata": {},
   "outputs": [
    {
     "data": {
      "text/plain": [
       "(268, 439)"
      ]
     },
     "execution_count": 4,
     "metadata": {},
     "output_type": "execute_result"
    }
   ],
   "source": [
    "image_size = image.shape[0:2]\n",
    "image_size"
   ]
  },
  {
   "cell_type": "code",
   "execution_count": 10,
   "metadata": {},
   "outputs": [],
   "source": [
    "cv2.imshow('image',image)\n",
    "cv2.waitKey(0)\n",
    "cv2.destroyAllWindows()"
   ]
  },
  {
   "cell_type": "code",
   "execution_count": 6,
   "metadata": {},
   "outputs": [
    {
     "name": "stdout",
     "output_type": "stream",
     "text": [
      "original image shape: (268, 439, 3)\n"
     ]
    }
   ],
   "source": [
    "print('original image shape:', image.shape)"
   ]
  },
  {
   "cell_type": "code",
   "execution_count": 7,
   "metadata": {},
   "outputs": [],
   "source": [
    "w, h = image.shape[1], image.shape[0]"
   ]
  },
  {
   "cell_type": "code",
   "execution_count": 8,
   "metadata": {},
   "outputs": [],
   "source": [
    "#defining random point inside image\n",
    "def rand_pt(mult = 1.):\n",
    "    return(random.randrange(int(w*mult)),\n",
    "          random.randrange(int(h*mult)))\n"
   ]
  },
  {
   "cell_type": "code",
   "execution_count": 9,
   "metadata": {
    "scrolled": true
   },
   "outputs": [
    {
     "data": {
      "text/plain": [
       "array([[[ 72,  97, 123],\n",
       "        [ 69,  94, 120],\n",
       "        [ 66,  91, 117],\n",
       "        ...,\n",
       "        [ 38,  13,   9],\n",
       "        [ 35,  10,   6],\n",
       "        [ 32,  10,   5]],\n",
       "\n",
       "       [[ 57,  81, 109],\n",
       "        [ 56,  81, 107],\n",
       "        [ 57,  81, 109],\n",
       "        ...,\n",
       "        [ 44,  19,  15],\n",
       "        [ 38,  16,  11],\n",
       "        [ 35,  13,   8]],\n",
       "\n",
       "       [[ 52,  76, 106],\n",
       "        [ 53,  77, 105],\n",
       "        [ 56,  80, 110],\n",
       "        ...,\n",
       "        [ 39,  17,  12],\n",
       "        [ 33,  13,   8],\n",
       "        [ 31,  11,   6]],\n",
       "\n",
       "       ...,\n",
       "\n",
       "       [[ 71,  87,  94],\n",
       "        [ 69,  85,  92],\n",
       "        [ 69,  85,  92],\n",
       "        ...,\n",
       "        [ 45,  57,  61],\n",
       "        [ 45,  57,  61],\n",
       "        [ 47,  59,  63]],\n",
       "\n",
       "       [[ 72,  87,  96],\n",
       "        [ 72,  87,  96],\n",
       "        [ 71,  88,  97],\n",
       "        ...,\n",
       "        [ 45,  56,  60],\n",
       "        [ 44,  55,  59],\n",
       "        [ 47,  58,  62]],\n",
       "\n",
       "       [[ 75,  90,  99],\n",
       "        [ 76,  91, 100],\n",
       "        [ 77,  94, 103],\n",
       "        ...,\n",
       "        [ 49,  60,  64],\n",
       "        [ 48,  59,  63],\n",
       "        [ 50,  61,  65]]], dtype=uint8)"
      ]
     },
     "execution_count": 9,
     "metadata": {},
     "output_type": "execute_result"
    }
   ],
   "source": [
    "#drawing circles\n",
    "cv2.circle(image, rand_pt(), 90, (255, 0, 0))\n",
    "cv2.circle(image, rand_pt(), 5, (255, 0, 0), cv2.FILLED)\n",
    "cv2.circle(image, rand_pt(), 40, (255, 85, 85), 2)\n",
    "cv2.circle(image, rand_pt(), 90, (255, 170, 170), 2, cv2.LINE_AA)\n"
   ]
  },
  {
   "cell_type": "code",
   "execution_count": 10,
   "metadata": {
    "scrolled": true
   },
   "outputs": [
    {
     "data": {
      "text/plain": [
       "array([[[ 72,  97, 123],\n",
       "        [ 69,  94, 120],\n",
       "        [ 66,  91, 117],\n",
       "        ...,\n",
       "        [ 38,  13,   9],\n",
       "        [ 35,  10,   6],\n",
       "        [ 32,  10,   5]],\n",
       "\n",
       "       [[ 57,  81, 109],\n",
       "        [ 56,  81, 107],\n",
       "        [ 57,  81, 109],\n",
       "        ...,\n",
       "        [ 44,  19,  15],\n",
       "        [ 38,  16,  11],\n",
       "        [ 35,  13,   8]],\n",
       "\n",
       "       [[ 52,  76, 106],\n",
       "        [ 53,  77, 105],\n",
       "        [ 56,  80, 110],\n",
       "        ...,\n",
       "        [ 39,  17,  12],\n",
       "        [ 33,  13,   8],\n",
       "        [ 31,  11,   6]],\n",
       "\n",
       "       ...,\n",
       "\n",
       "       [[ 71,  87,  94],\n",
       "        [ 69,  85,  92],\n",
       "        [ 69,  85,  92],\n",
       "        ...,\n",
       "        [ 45,  57,  61],\n",
       "        [ 45,  57,  61],\n",
       "        [ 47,  59,  63]],\n",
       "\n",
       "       [[ 72,  87,  96],\n",
       "        [ 72,  87,  96],\n",
       "        [ 71,  88,  97],\n",
       "        ...,\n",
       "        [ 45,  56,  60],\n",
       "        [ 44,  55,  59],\n",
       "        [ 47,  58,  62]],\n",
       "\n",
       "       [[ 75,  90,  99],\n",
       "        [ 76,  91, 100],\n",
       "        [ 77,  94, 103],\n",
       "        ...,\n",
       "        [ 49,  60,  64],\n",
       "        [ 48,  59,  63],\n",
       "        [ 50,  61,  65]]], dtype=uint8)"
      ]
     },
     "execution_count": 10,
     "metadata": {},
     "output_type": "execute_result"
    }
   ],
   "source": [
    "# to fraw a rectangle\n",
    "cv2.rectangle(image, rand_pt(), rand_pt(), (255, 0, 0), 3)"
   ]
  },
  {
   "cell_type": "code",
   "execution_count": 11,
   "metadata": {},
   "outputs": [],
   "source": [
    "cv2.imshow('image',image)"
   ]
  },
  {
   "cell_type": "code",
   "execution_count": 12,
   "metadata": {},
   "outputs": [
    {
     "name": "stdout",
     "output_type": "stream",
     "text": [
      "resized image shape: (256, 128, 3)\n"
     ]
    }
   ],
   "source": [
    "width, height = 128, 256\n",
    "resized_image = cv2.resize(image, (width, height))\n",
    "print(\"resized image shape:\", resized_image.shape)"
   ]
  },
  {
   "cell_type": "code",
   "execution_count": 17,
   "metadata": {},
   "outputs": [],
   "source": [
    "# reading a Video in Open CV\n",
    "video = cv2.VideoCapture(\"D:/Pics Me/Suppu Phone/117APPLE/IMG_7043.MOV\")"
   ]
  },
  {
   "cell_type": "code",
   "execution_count": 18,
   "metadata": {},
   "outputs": [
    {
     "name": "stdout",
     "output_type": "stream",
     "text": [
      "Pressed Esc\n"
     ]
    }
   ],
   "source": [
    "while True:\n",
    "    has_frame, frame = video.read()\n",
    "    if not has_frame:\n",
    "        print('Reached the end of the video')\n",
    "        break\n",
    "        \n",
    "    cv2.imshow('frame', frame)\n",
    "    key = cv2.waitKey(50)\n",
    "    if key == 27:\n",
    "        print(\"Pressed Esc\")\n",
    "        break\n",
    "cv2.destroyAllWindows()"
   ]
  },
  {
   "cell_type": "code",
   "execution_count": 19,
   "metadata": {},
   "outputs": [],
   "source": [
    "import numpy\n",
    "import cv2\n",
    "\n",
    "def print_capture_properties(*args):\n",
    "    capture = cv2.VideoCapture(*args)\n",
    "    print('Created capture:', ' '.join(map(str, args)))\n",
    "    print('Frame count:', int(capture.get(cv2.CAP_PROP_FRAME_COUNT)))\n",
    "    print('Frame width:', int(capture.get(cv2.CAP_PROP_FRAME_WIDTH)))\n",
    "    print('Frame height:', int(capture.get(cv2.CAP_PROP_FRAME_HEIGHT)))\n",
    "    print('Frame rate:', capture.get(cv2.CAP_PROP_FPS))"
   ]
  },
  {
   "cell_type": "code",
   "execution_count": 20,
   "metadata": {},
   "outputs": [
    {
     "name": "stdout",
     "output_type": "stream",
     "text": [
      "Created capture: D:/Pics Me/Suppu Phone/117APPLE/IMG_7043.MOV\n",
      "Frame count: 336\n",
      "Frame width: 1920\n",
      "Frame height: 1080\n",
      "Frame rate: 29.977695167286246\n"
     ]
    }
   ],
   "source": [
    "print_capture_properties(\"D:/Pics Me/Suppu Phone/117APPLE/IMG_7043.MOV\")"
   ]
  },
  {
   "cell_type": "code",
   "execution_count": 21,
   "metadata": {},
   "outputs": [
    {
     "name": "stdout",
     "output_type": "stream",
     "text": [
      "Created capture: 0\n",
      "Frame count: -1\n",
      "Frame width: 640\n",
      "Frame height: 480\n",
      "Frame rate: 30.0\n"
     ]
    }
   ],
   "source": [
    "print_capture_properties(0)"
   ]
  },
  {
   "cell_type": "markdown",
   "metadata": {},
   "source": [
    "###  Writing a Frame Stream in to a video"
   ]
  },
  {
   "cell_type": "code",
   "execution_count": 1,
   "metadata": {},
   "outputs": [
    {
     "name": "stdout",
     "output_type": "stream",
     "text": [
      "Frame width: 640\n",
      "Frame height: 480\n"
     ]
    }
   ],
   "source": [
    "#creating camera capture object\n",
    "import cv2\n",
    "capture = cv2.VideoCapture(0)\n",
    "frame_width = int(capture.get(cv2.CAP_PROP_FRAME_WIDTH))\n",
    "frame_height = int(capture.get(cv2.CAP_PROP_FRAME_HEIGHT))\n",
    "print('Frame width:', frame_width)\n",
    "print('Frame height:', frame_height)\n"
   ]
  },
  {
   "cell_type": "code",
   "execution_count": 2,
   "metadata": {},
   "outputs": [],
   "source": [
    "# creating a video writer\n",
    "video = cv2.VideoWriter('../data/captured_video.avi', cv2.VideoWriter_fourcc(*'X264'),\n",
    "                        25, (frame_width, frame_height))"
   ]
  },
  {
   "cell_type": "markdown",
   "metadata": {},
   "source": [
    "##### capture frames in while loop and write in video.write"
   ]
  },
  {
   "cell_type": "code",
   "execution_count": 3,
   "metadata": {},
   "outputs": [
    {
     "name": "stdout",
     "output_type": "stream",
     "text": [
      "Pressed Esc\n"
     ]
    }
   ],
   "source": [
    "while True:\n",
    "    has_frame, frame = capture.read()\n",
    "    if not has_frame:\n",
    "        print('Can\\'t get frame')\n",
    "        break\n",
    "        \n",
    "    video.write(frame)\n",
    "        \n",
    "    cv2.imshow('frame', frame)\n",
    "    key = cv2.waitKey(3)\n",
    "    if key == 27:\n",
    "        print('Pressed Esc')\n",
    "        break\n",
    "        "
   ]
  },
  {
   "cell_type": "code",
   "execution_count": 4,
   "metadata": {},
   "outputs": [],
   "source": [
    "capture.release()\n",
    "#writer.release()\n",
    "cv2.destroyAllWindows()"
   ]
  },
  {
   "cell_type": "code",
   "execution_count": null,
   "metadata": {},
   "outputs": [],
   "source": []
  }
 ],
 "metadata": {
  "kernelspec": {
   "display_name": "Python 3",
   "language": "python",
   "name": "python3"
  },
  "language_info": {
   "codemirror_mode": {
    "name": "ipython",
    "version": 3
   },
   "file_extension": ".py",
   "mimetype": "text/x-python",
   "name": "python",
   "nbconvert_exporter": "python",
   "pygments_lexer": "ipython3",
   "version": "3.7.3"
  }
 },
 "nbformat": 4,
 "nbformat_minor": 2
}
